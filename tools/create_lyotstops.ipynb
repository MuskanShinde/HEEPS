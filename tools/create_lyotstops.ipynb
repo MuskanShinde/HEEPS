{
 "cells": [
  {
   "cell_type": "code",
   "execution_count": 4,
   "metadata": {},
   "outputs": [],
   "source": [
    "from heeps.util.coord import cart_coord, polar_coord\n",
    "from heeps.util.img_processing import resize_img\n",
    "from heeps.pupil.create_pupil import create_pupil\n",
    "from copy import deepcopy\n",
    "import numpy as np\n",
    "from astropy.io import fits\n",
    "import matplotlib.pyplot as plt\n",
    "%matplotlib inline"
   ]
  },
  {
   "cell_type": "markdown",
   "metadata": {},
   "source": [
    "# Input parameters"
   ]
  },
  {
   "cell_type": "code",
   "execution_count": 5,
   "metadata": {},
   "outputs": [],
   "source": [
    "pupil_img_size = 39.9988\n",
    "diam_nominal_ext = 38.542\n",
    "diam_nominal_int = 10.952\n",
    "spi_width = 0.54"
   ]
  },
  {
   "cell_type": "code",
   "execution_count": 6,
   "metadata": {},
   "outputs": [
    {
     "name": "stdout",
     "output_type": "stream",
     "text": [
      "ravc_t = 0.76\n",
      "ravc_r = 0.62\n",
      "diam_allglass_RA = 22.9287\n"
     ]
    }
   ],
   "source": [
    "# all-glass diameters\n",
    "diam_allglass_ext = 36.905\n",
    "diam_allglass_int = 11.213\n",
    "r_obstr = diam_allglass_int/diam_allglass_ext\n",
    "ravc_t = 1 - (r_obstr**2 + r_obstr*np.sqrt(r_obstr**2 + 8))/4\n",
    "ravc_r = r_obstr/np.sqrt(1 - ravc_t)\n",
    "diam_allglass_RA = ravc_r*diam_allglass_ext\n",
    "print('ravc_t = %s\\nravc_r = %s\\ndiam_allglass_RA = %s'\\\n",
    "    %(np.round(ravc_t, 2), np.round(ravc_r, 2), np.round(diam_allglass_RA, 4)))"
   ]
  },
  {
   "cell_type": "code",
   "execution_count": 7,
   "metadata": {},
   "outputs": [
    {
     "name": "stdout",
     "output_type": "stream",
     "text": [
      "ravc_t = 0.79\n",
      "ravc_r = 0.59\n",
      "diam_fullM1_RA = 22.2647\n"
     ]
    }
   ],
   "source": [
    "# averaged full-M1 diameters\n",
    "diam_fullM1_ext = 37.812\n",
    "diam_fullM1_int = 10.196\n",
    "r_obstr = diam_fullM1_int/diam_fullM1_ext\n",
    "ravc_t = 1 - (r_obstr**2 + r_obstr*np.sqrt(r_obstr**2 + 8))/4\n",
    "ravc_r = r_obstr/np.sqrt(1 - ravc_t)\n",
    "diam_fullM1_RA = ravc_r*diam_fullM1_ext\n",
    "print('ravc_t = %s\\nravc_r = %s\\ndiam_fullM1_RA = %s'%(np.round(ravc_t, 2), np.round(ravc_r, 2), np.round(diam_fullM1_RA, 4)))"
   ]
  },
  {
   "cell_type": "code",
   "execution_count": 8,
   "metadata": {},
   "outputs": [
    {
     "name": "stdout",
     "output_type": "stream",
     "text": [
      "ravc_t = 0.745\n",
      "ravc_r = 0.505\n",
      "diam_allglass_RA_opt = 18.637\n"
     ]
    }
   ],
   "source": [
    "#optimal RA parameters wrt all-glass diameters\n",
    "ravc_r_opt = 0.505\n",
    "ravc_t_opt = 0.745\n",
    "diam_allglass_RA_opt = ravc_r_opt*diam_allglass_ext\n",
    "print('ravc_t = %s\\nravc_r = %s\\ndiam_allglass_RA_opt = %s'%(np.round(ravc_t_opt, 3), np.round(ravc_r_opt, 3), np.round(diam_allglass_RA_opt, 4)))"
   ]
  },
  {
   "cell_type": "markdown",
   "metadata": {},
   "source": [
    "# Check all-glass vs full-M1"
   ]
  },
  {
   "cell_type": "code",
   "execution_count": 9,
   "metadata": {},
   "outputs": [
    {
     "data": {
      "image/png": "[encoded data removed]",
      "text/plain": [
       "<Figure size 432x288 with 1 Axes>"
      ]
     },
     "metadata": {
      "needs_background": "light"
     },
     "output_type": "display_data"
    }
   ],
   "source": [
    "fullM1 = np.float32(fits.getdata('input_files/ELT_pupil/mask_M1.fits'))\n",
    "allglass = np.float32(fits.getdata('input_files/ELT_pupil/mask_allglass.fits'))\n",
    "spiders = np.float32(fits.getdata('input_files/ELT_pupil/SpiderShadow.fits'))\n",
    "plt.imshow(fullM1 - allglass/2)\n",
    "nimg = fullM1.shape[0]\n",
    "npupil = 1385"
   ]
  },
  {
   "cell_type": "markdown",
   "metadata": {},
   "source": [
    "# Create dodecagon (ext) and hexagon (int)"
   ]
  },
  {
   "cell_type": "code",
   "execution_count": 10,
   "metadata": {},
   "outputs": [],
   "source": [
    "def mask_angle(x, y, r, theta, rot):\n",
    "    P = (r*np.cos(np.deg2rad(theta)), r*np.sin(np.deg2rad(theta)))\n",
    "    a = np.tan(np.deg2rad(theta - rot))\n",
    "    b = P[1] - a*P[0]\n",
    "    mask = (y > a*x + b) + (y > -a*x + b) + (y < a*x - b) + (y < -a*x - b)\n",
    "    return mask\n",
    "def dodecagon(r_ext, nimg):\n",
    "    x, y = cart_coord(nimg)\n",
    "    M1 = mask_angle(x, y, r_ext, 0 , 90)\n",
    "    M2 = mask_angle(x, y, r_ext, 30, 90)\n",
    "    M3 = mask_angle(x, y, r_ext, 60, 90)\n",
    "    M4 = mask_angle(x, y, r_ext, 90, 90)\n",
    "    return M1 + M2 + M3 + M4\n",
    "def hexagon(r_int, nimg):\n",
    "    x, y = cart_coord(nimg)\n",
    "    M5 = mask_angle(x, y, r_int, 30, 60)\n",
    "    M6 = mask_angle(x, y, r_int, 30, 120)\n",
    "    return ~(M5 + M6)"
   ]
  },
  {
   "cell_type": "code",
   "execution_count": 11,
   "metadata": {},
   "outputs": [
    {
     "name": "stdout",
     "output_type": "stream",
     "text": [
      "diam_dodecagon = 36.8765\n",
      "diam_dodecagon = 11.6081\n"
     ]
    }
   ],
   "source": [
    "# a bit of geometry to find the dodecagon and hexagon edges ...\n",
    "seg_width = 1.45\n",
    "alpha = np.arcsin(seg_width/diam_allglass_ext)\n",
    "ds = seg_width*np.sin(np.pi/3)\n",
    "dc = seg_width*np.cos(np.pi/3)\n",
    "beta = np.arcsin(dc/diam_allglass_int)\n",
    "h = np.cos(beta)*diam_allglass_int\n",
    "diam_dodecagon = np.cos(alpha)*diam_allglass_ext    # 36.877\n",
    "diam_hexagon = h - ds + seg_width/np.cos(np.pi/6)   # 11.608\n",
    "print('diam_dodecagon = %s\\ndiam_dodecagon = %s'%(np.round(diam_dodecagon, 4), np.round(diam_hexagon, 4)))"
   ]
  },
  {
   "cell_type": "code",
   "execution_count": 12,
   "metadata": {},
   "outputs": [
    {
     "data": {
      "text/plain": [
       "<matplotlib.image.AxesImage at 0x7f22126be310>"
      ]
     },
     "execution_count": 12,
     "metadata": {},
     "output_type": "execute_result"
    },
    {
     "data": {
      "image/png": "[encoded data removed]",
      "text/plain": [
       "<Figure size 432x288 with 1 Axes>"
      ]
     },
     "metadata": {
      "needs_background": "light"
     },
     "output_type": "display_data"
    }
   ],
   "source": [
    "r_ext = diam_dodecagon/pupil_img_size\n",
    "r_int = diam_hexagon/pupil_img_size\n",
    "mask = dodecagon(r_ext, nimg) + hexagon(r_int, nimg)\n",
    "pup = deepcopy(fullM1)\n",
    "pup[mask] += 0.5\n",
    "plt.imshow(pup, origin=True)"
   ]
  },
  {
   "cell_type": "markdown",
   "metadata": {},
   "source": [
    "# Create Lyot stop"
   ]
  },
  {
   "cell_type": "code",
   "execution_count": 13,
   "metadata": {},
   "outputs": [],
   "source": [
    "def create_ls(d_ext, d_int, ls_dRext, ls_dRint, ls_dRspi, circ_ext=True, \\\n",
    "    circ_int=True):\n",
    "    # create spider stop\n",
    "    conf = dict(\n",
    "        npupil=nimg,\n",
    "        pupil_img_size=pupil_img_size, \n",
    "        diam_ext=2*pupil_img_size,  # no circular aperture\n",
    "        diam_int=0,                 # no central obscuration\n",
    "        seg_width=0,                # no segments\n",
    "        spi_width=spi_width + ls_dRspi*diam_nominal_ext,\n",
    "    )\n",
    "    mask_spi = create_pupil(**conf)\n",
    "    # create outer and inner stops\n",
    "    r_ext = (d_ext - ls_dRext*diam_nominal_ext) / pupil_img_size\n",
    "    r_int = (d_int + ls_dRint*diam_nominal_ext) / pupil_img_size\n",
    "    r, t = polar_coord(nimg)\n",
    "    mask_ext = (r < r_ext) if circ_ext == True else ~dodecagon(r_ext, nimg)\n",
    "    mask_int = (r > r_int) if circ_int == True else ~hexagon(r_int, nimg)\n",
    "    # lyot stop\n",
    "    return mask_spi * mask_ext * mask_int"
   ]
  },
  {
   "cell_type": "markdown",
   "metadata": {},
   "source": [
    "# Lyot stop RAVC\n",
    "## LM band"
   ]
  },
  {
   "cell_type": "code",
   "execution_count": 19,
   "metadata": {
    "scrolled": true
   },
   "outputs": [
    {
     "data": {
      "image/png": "[encoded data removed]",
      "text/plain": [
       "<Figure size 432x288 with 1 Axes>"
      ]
     },
     "metadata": {
      "needs_background": "light"
     },
     "output_type": "display_data"
    }
   ],
   "source": [
    "ls_params = (0.0291, 0.0291, 0.0317)\n",
    "npupil = 285\n",
    "mask = create_ls(diam_allglass_ext, diam_allglass_RA_opt, *ls_params)\n",
    "fits.writeto('input_files/pupil/ls_LM_RAVC_%s_%s_%s_%s.fits'\\\n",
    "    %(*ls_params, npupil), resize_img(mask, npupil), overwrite=True)\n",
    "plt.imshow(fullM1*spiders + mask/2, origin=True);"
   ]
  },
  {
   "cell_type": "markdown",
   "metadata": {},
   "source": [
    "# Lyot stop CVC\n",
    "## LM band"
   ]
  },
  {
   "cell_type": "code",
   "execution_count": 20,
   "metadata": {},
   "outputs": [
    {
     "data": {
      "image/png": "[encoded data removed]",
      "text/plain": [
       "<Figure size 432x288 with 1 Axes>"
      ]
     },
     "metadata": {
      "needs_background": "light"
     },
     "output_type": "display_data"
    }
   ],
   "source": [
    "ls_params = (0.0291, 0.08, 0.0317)\n",
    "npupil = 285\n",
    "mask = create_ls(diam_allglass_ext, diam_allglass_int, *ls_params)\n",
    "fits.writeto('input_files/pupil/ls_LM_CVC_%s_%s_%s_%s.fits'\\\n",
    "    %(*ls_params, npupil), resize_img(mask, npupil), overwrite=True)\n",
    "plt.imshow(fullM1*spiders + mask/2, origin=True);"
   ]
  },
  {
   "cell_type": "markdown",
   "metadata": {},
   "source": [
    "## N band"
   ]
  },
  {
   "cell_type": "code",
   "execution_count": 21,
   "metadata": {},
   "outputs": [
    {
     "data": {
      "image/png": "[encoded data removed]",
      "text/plain": [
       "<Figure size 432x288 with 1 Axes>"
      ]
     },
     "metadata": {
      "needs_background": "light"
     },
     "output_type": "display_data"
    }
   ],
   "source": [
    "ls_params = (0.0356, 0.08, 0.0383)\n",
    "npupil = 119\n",
    "mask = create_ls(diam_allglass_ext, diam_allglass_int, *ls_params)\n",
    "fits.writeto('input_files/pupil/ls_N_CVC_%s_%s_%s_%s.fits'\\\n",
    "    %(*ls_params, npupil), resize_img(mask, npupil), overwrite=True)\n",
    "plt.imshow(fullM1*spiders + mask/2, origin=True);"
   ]
  },
  {
   "cell_type": "markdown",
   "metadata": {},
   "source": [
    "# Lyot stop CLC\n",
    "## LM band"
   ]
  },
  {
   "cell_type": "code",
   "execution_count": 14,
   "metadata": {
    "scrolled": true
   },
   "outputs": [
    {
     "data": {
      "image/png": "[encoded data removed]",
      "text/plain": [
       "<Figure size 432x288 with 1 Axes>"
      ]
     },
     "metadata": {
      "needs_background": "light"
     },
     "output_type": "display_data"
    }
   ],
   "source": [
    "# values from Muskan wrt diam_nominal_ext\n",
    "ls_dRext = np.round(diam_allglass_ext/diam_nominal_ext - 0.848, 4)\n",
    "ls_dRint = np.round(0.34 - diam_allglass_int/diam_nominal_ext, 4)\n",
    "ls_params = (ls_dRext, ls_dRint, 0.0317)\n",
    "npupil = 10526\n",
    "mask = create_ls(diam_allglass_ext, diam_allglass_int, *ls_params)\n",
    "fits.writeto('input_files/pupil/ls_LM_CLC_%s_%s_%s_%s.fits'\\\n",
    "    %(*ls_params, npupil), resize_img(mask, npupil), overwrite=True)\n",
    "plt.imshow(fullM1*spiders + mask/2);"
   ]
  },
  {
   "cell_type": "markdown",
   "metadata": {},
   "source": [
    "## N band"
   ]
  },
  {
   "cell_type": "code",
   "execution_count": 24,
   "metadata": {},
   "outputs": [
    {
     "data": {
      "image/png": "[encoded data removed]",
      "text/plain": [
       "<Figure size 432x288 with 1 Axes>"
      ]
     },
     "metadata": {
      "needs_background": "light"
     },
     "output_type": "display_data"
    }
   ],
   "source": [
    "# values from Muskan wrt diam_nominal_ext\n",
    "ls_dRext = np.round(diam_allglass_ext/diam_nominal_ext - 0.853, 4)\n",
    "ls_dRint = np.round(0.342 - diam_allglass_int/diam_nominal_ext, 4)\n",
    "ls_params = (ls_dRext, ls_dRint, 0.0383)\n",
    "npupil = 119\n",
    "mask = create_ls(diam_allglass_ext, diam_allglass_int, *ls_params)\n",
    "fits.writeto('input_files/pupil/ls_N_CLC_%s_%s_%s_%s.fits'\\\n",
    "    %(*ls_params, npupil), resize_img(mask, npupil), overwrite=True)\n",
    "plt.imshow(fullM1*spiders + mask/2);"
   ]
  }
 ],
 "metadata": {
  "kernelspec": {
   "display_name": "Python 3",
   "language": "python",
   "name": "python3"
  },
  "language_info": {
   "codemirror_mode": {
    "name": "ipython",
    "version": 3
   },
   "file_extension": ".py",
   "mimetype": "text/x-python",
   "name": "python",
   "nbconvert_exporter": "python",
   "pygments_lexer": "ipython3",
   "version": "3.7.4"
  },
  "metadata": {
   "interpreter": {
    "hash": "344443636c3027c5042750c9c609acdda283a9c43681b128a8c1053e7ad2aa7d"
   }
  }
 },
 "nbformat": 4,
 "nbformat_minor": 2
}
