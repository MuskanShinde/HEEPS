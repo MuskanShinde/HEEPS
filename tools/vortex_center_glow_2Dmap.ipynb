{
 "cells": [
  {
   "cell_type": "markdown",
   "metadata": {},
   "source": [
    "# Vortex center glow"
   ]
  },
  {
   "cell_type": "markdown",
   "metadata": {},
   "source": [
    "The aim of this simulation is to model the vortex center glow effect, which is caused to diffraction of the thermal emission from the environment outside the entrance pupil to the pupil image formed on the detector, by the vortex phase mask. \n",
    "To model the effect, several points outside the entrance pupil are taken and their intensity on the detector is evaluated. Net effect is determined by adding contributions from all these points."
   ]
  },
  {
   "cell_type": "markdown",
   "metadata": {},
   "source": [
    "### Imports"
   ]
  },
  {
   "cell_type": "code",
   "execution_count": 1,
   "metadata": {},
   "outputs": [],
   "source": [
    "import heeps\n",
    "from heeps.optics.lens import lens, lens_offset\n",
    "from heeps.optics.vortex_init import vortex_init\n",
    "from heeps.util.coord import cart_coord, polar_coord\n",
    "from heeps.util.img_processing import resize_img, crop_img, pad_img, get_radial_profile\n",
    "from heeps.optics import lyot_stop, detector\n",
    "from heeps.pupil.create_pupil import create_pupil\n",
    "from copy import deepcopy\n",
    "import proper\n",
    "import numpy as np\n",
    "np.set_printoptions(threshold=np.inf, linewidth=200)\n",
    "import os.path\n",
    "from astropy.io import fits\n",
    "import astropy.units as u\n",
    "import matplotlib.pyplot as plt\n",
    "import multiprocessing as mpro\n",
    "from functools import partial\n",
    "from sys import platform\n",
    "import time\n",
    "%matplotlib inline"
   ]
  },
  {
   "cell_type": "markdown",
   "metadata": {},
   "source": [
    "### Input parameters"
   ]
  },
  {
   "cell_type": "code",
   "execution_count": 2,
   "metadata": {},
   "outputs": [],
   "source": [
    "diam_ext_cold_stop = 40.944\n",
    "diam_int_cold_stop = 7.363\n",
    "diam_ext_eff = 37.812\n",
    "diam_int_eff = 10.196\n",
    "# all-glass diameters\n",
    "diam_allglass_ext = 36.905\n",
    "diam_allglass_int = 11.213\n",
    "# nominal diameters\n",
    "diam_nominal_ext = 38.542\n",
    "diam_nominal_int = 10.952\n",
    "r_spot = 0.2 # m\n",
    "ncrop = 101 # for psf visualization\n",
    "L_flux_env_per_m2 = 1.213e+03 # [photons/s/m2/pix]\n",
    "L_flux_spi_per_m2 = 1.001e+03 # [photons/s/m2/pix]\n",
    "L_flux_env = 3.3403e+05 # [photons/s/pix]\n",
    "L_flux_spi = 0.4478e+05 # [photons/s/pix]\n",
    "L_flux_std_bkgrd = 3.0747e+05 # [photons/s/pix]\n",
    "N2_flux_env_per_m2 = 594.8e+03 # [photons/s/m2/pix]\n",
    "N2_flux_spi_per_m2 = 494.3e+03 # [photons/s/m2/pix]\n",
    "N2_flux_env = 3.3403e+05 # [photons/s/pix]\n",
    "N2_flux_spi = 0.4478e+05 # [photons/s/pix]\n",
    "N2_flux_std_bkgrd = 1.2821e+08 # [photons/s/pix]"
   ]
  },
  {
   "cell_type": "markdown",
   "metadata": {},
   "source": [
    "### Initialize wavefront using PROPER"
   ]
  },
  {
   "cell_type": "code",
   "execution_count": 3,
   "metadata": {},
   "outputs": [
    {
     "name": "stdout",
     "output_type": "stream",
     "text": [
      "Simulation config: band=L, mode=CVC\n",
      "‾‾‾‾‾‾‾‾‾‾‾‾‾‾‾‾‾‾\n",
      "   loading vortex back-propagation params\n",
      "   vc_charge=2, ngrid=1024, beam_ratio=0.2834\n",
      "   npupil=293, pscale=5.47 mas, lam=3.8318E-06 m\n",
      "   hfov=1.0 arcsec (-> ndet=365, 51.71 lam/D)\n",
      "\n"
     ]
    }
   ],
   "source": [
    "conf = dict(\n",
    "#    dir_current = '/Users/cdelacroix/dox/METIS/METIS_HCI_HEEPS_simulations/VCG',\n",
    "    band = 'L',\n",
    "    mode = 'CVC',\n",
    "    file_lyot_stop = 'pupil/ls_0.0_0.0_0.0317_293.fits',\n",
    "    dir_output = 'VCG/2Dmap',\n",
    "    cpu_count = None,\n",
    "    hfov = 1,\n",
    "    pupil_img_size = diam_ext_cold_stop + 2*r_spot,\n",
    "    diam_ext = diam_ext_cold_stop, \n",
    "    diam_int = diam_int_cold_stop,\n",
    "    )\n",
    "conf = heeps.config.read_config(verbose=False, **conf)\n",
    "conf = heeps.config.update_config(saveconf=True, verbose=True, **conf)\n",
    "dir_current = conf['dir_current']\n",
    "dir_output = conf['dir_output']\n",
    "npupil = conf['npupil']\n",
    "ngrid = conf['ngrid']\n",
    "diam_ext = conf['diam_ext']\n",
    "pupil_img_size = conf['pupil_img_size']\n",
    "lam = conf['lam']\n",
    "pscale = conf['pscale']\n",
    "spi_width = conf['spi_width']\n",
    "ndet = conf['ndet']\n",
    "cpu_count = conf['cpu_count']\n",
    "beam_ratio = npupil/ngrid*(diam_ext/pupil_img_size)\n",
    "wf = proper.prop_begin(pupil_img_size, lam, ngrid, beam_ratio)\n",
    "wf_pup = heeps.pupil.pupil(savefits=True, verbose=False, **conf)"
   ]
  },
  {
   "cell_type": "markdown",
   "metadata": {},
   "source": [
    "### Create cold stop"
   ]
  },
  {
   "cell_type": "code",
   "execution_count": 4,
   "metadata": {},
   "outputs": [
    {
     "name": "stdout",
     "output_type": "stream",
     "text": [
      "(293, 293)\n"
     ]
    },
    {
     "data": {
      "image/png": "[encoded data removed]",
      "text/plain": [
       "<Figure size 432x288 with 1 Axes>"
      ]
     },
     "metadata": {
      "needs_background": "light"
     },
     "output_type": "display_data"
    }
   ],
   "source": [
    "conf_stop = dict(conf, spi_width=0, seg_width=0)\n",
    "cold_stop = heeps.pupil.create_pupil(**conf_stop)\n",
    "print(cold_stop.shape)\n",
    "plt.imshow(cold_stop), plt.xlabel('pixels'), plt.ylabel('pixels');\n",
    "cold_stop = pad_img(cold_stop, ngrid)"
   ]
  },
  {
   "cell_type": "markdown",
   "metadata": {},
   "source": [
    "### Create Lyot stop"
   ]
  },
  {
   "cell_type": "code",
   "execution_count": 5,
   "metadata": {},
   "outputs": [],
   "source": [
    "def create_ls(d_ext, d_int, ls_dRext, ls_dRint, ls_dRspi):\n",
    "    # create spider stop\n",
    "    conf = dict(\n",
    "        npupil=10526,\n",
    "        pupil_img_size=40.944+(2*r_spot), \n",
    "        diam_ext=80,        # no circular aperture\n",
    "        diam_int=0,         # no circular obscuration\n",
    "        seg_width=0,        # no segments\n",
    "        spi_width=spi_width + ls_dRspi*diam_nominal_ext,\n",
    "    )\n",
    "    mask_spi = create_pupil(**conf)\n",
    "    # create outer and inner stops\n",
    "    r_ext = (d_ext - ls_dRext*diam_nominal_ext) / (40.944+(2*r_spot))\n",
    "    r_int = (d_int + ls_dRint*diam_nominal_ext) / (40.944+(2*r_spot))\n",
    "    r, t = polar_coord(10526)\n",
    "    mask_ext = (r < r_ext) \n",
    "    mask_int = (r > r_int) \n",
    "    # lyot stop\n",
    "    return mask_spi * mask_ext * mask_int"
   ]
  },
  {
   "cell_type": "markdown",
   "metadata": {},
   "source": [
    "### Create a spot, normalized by square meter of surface"
   ]
  },
  {
   "cell_type": "code",
   "execution_count": 6,
   "metadata": {},
   "outputs": [],
   "source": [
    "def create_spot(rad, theta, nimg=10526):\n",
    "    x, y = cart_coord(nimg)\n",
    "    x *= pupil_img_size/2\n",
    "    y *= pupil_img_size/2\n",
    "    c = (rad*np.cos(np.deg2rad(theta)), rad*np.sin(np.deg2rad(theta)))\n",
    "    r =  np.abs((x-c[0]) + 1j*(y-c[1]))\n",
    "    spot = (r <= r_spot)                    # create a spot\n",
    "    spot = resize_img(spot, npupil)         # resize to npupil\n",
    "    spot = pad_img(spot, ngrid)             # pad with zeros\n",
    "    # normalize the entrance pupil intensity (total flux = 1/spot_area)\n",
    "    I_spot = spot**2\n",
    "    spot_area = np.pi*r_spot**2\n",
    "    spot = np.sqrt(I_spot/spot_area)\n",
    "    return spot"
   ]
  },
  {
   "cell_type": "markdown",
   "metadata": {},
   "source": [
    "### Generate points along spider edges"
   ]
  },
  {
   "cell_type": "code",
   "execution_count": 7,
   "metadata": {},
   "outputs": [],
   "source": [
    "def points_along_spi_edge(rads, thetas):\n",
    "    shift = spi_width/2 - r_spot\n",
    "    r_spi_shift = []\n",
    "    t_spi_left = []\n",
    "    t_spi_right = []\n",
    "    for rad in rads:\n",
    "        for theta in thetas:\n",
    "            r = np.sqrt(rad**2 + shift**2)\n",
    "            t_l = theta + np.degrees(np.arctan(shift/rad))\n",
    "            t_r = theta - np.degrees(np.arctan(shift/rad))\n",
    "            r_spi_shift.append(r)\n",
    "            t_spi_left.append(t_l)\n",
    "            t_spi_right.append(t_r)\n",
    "    r_spi_lr = r_spi_shift + r_spi_shift\n",
    "    t_spi_lr = t_spi_left + t_spi_right\n",
    "    return r_spi_lr, t_spi_lr\n",
    "\n",
    "def points_along_spi_left_edge(rads, thetas):\n",
    "    shift = spi_width/2 - r_spot\n",
    "    r_spi_shift = []\n",
    "    t_spi_left = []\n",
    "    for rad in rads:\n",
    "        for theta in thetas:\n",
    "            r = np.sqrt(rad**2 + shift**2)\n",
    "            t_l = theta + np.degrees(np.arctan(shift/rad))\n",
    "            r_spi_shift.append(r)\n",
    "            t_spi_left.append(t_l)\n",
    "    return r_spi_shift, t_spi_left\n",
    "\n",
    "def points_along_spi_right_edge(rads, thetas):\n",
    "    shift = spi_width/2 - r_spot\n",
    "    r_spi_shift = []\n",
    "    t_spi_right = []\n",
    "    for rad in rads:\n",
    "        for theta in thetas:\n",
    "            r = np.sqrt(rad**2 + shift**2)\n",
    "            t_r = theta - np.degrees(np.arctan(shift/rad))\n",
    "            r_spi_shift.append(r)\n",
    "            t_spi_right.append(t_r)\n",
    "    return r_spi_shift, t_spi_right"
   ]
  },
  {
   "cell_type": "markdown",
   "metadata": {},
   "source": [
    "### Propagate functions"
   ]
  },
  {
   "cell_type": "code",
   "execution_count": 8,
   "metadata": {},
   "outputs": [],
   "source": [
    "def fp_mask(wf, rad, mode='RAVC', focal=660, vc_zoffset=1e-3/2, verbose=False, **conf):\n",
    "        if verbose is True:\n",
    "            print('   apply vortex phase mask')                        \n",
    "        # update conf\n",
    "        conf.update(focal=focal)\n",
    "        # propagate to vortex\n",
    "        lens_offset(wf, focal, offset_after=vc_zoffset)\n",
    "        # load vortex calibration files: psf_num, vvc, perf_num\n",
    "        conf = vortex_init(verbose=verbose, **conf)\n",
    "        # get maximum aplitude \n",
    "        amp_array = proper.prop_get_amplitude(wf)\n",
    "        amp_max = np.amax(amp_array)\n",
    "        #rescale flux\n",
    "        if rad in r_int:\n",
    "            proper.prop_multiply(wf, np.sqrt(L_flux_env_per_m2)/amp_max)\n",
    "        elif rad in r_ext:\n",
    "            proper.prop_multiply(wf, np.sqrt(L_flux_env_per_m2)/amp_max)\n",
    "        elif rad in r_spi_lr:\n",
    "            proper.prop_multiply(wf, np.sqrt(L_flux_spi_per_m2)/amp_max)\n",
    "        # apply vortex\n",
    "        scale_psf = wf._wfarr[0,0]/conf['psf_num'][0,0]\n",
    "        wf_corr = (conf['psf_num']*conf['vvc'] - conf['perf_num'])*scale_psf\n",
    "        wf._wfarr = wf._wfarr*conf['vvc'] - wf_corr\n",
    "        # propagate to lyot stop\n",
    "        lens_offset(wf, focal, offset_before=-vc_zoffset)\n",
    "        return wf"
   ]
  },
  {
   "cell_type": "code",
   "execution_count": 9,
   "metadata": {},
   "outputs": [],
   "source": [
    "def propag_one_spot(rad, theta, verbose=False):\n",
    "        #print(rad, theta)\n",
    "        # keep a copy of the input wavefront\n",
    "        wf1 = deepcopy(wf)\n",
    "        # create a normalized spot\n",
    "        spot = create_spot(rad, theta)\n",
    "        # add spot to wavefront\n",
    "        proper.prop_multiply(wf1, spot)\n",
    "        # apply cold stop\n",
    "        proper.prop_multiply(wf1, cold_stop)\n",
    "        # propagate one frame of onaxis psf (i.e. star)\n",
    "        wf1 = fp_mask(wf1, rad, verbose=verbose, **conf)\n",
    "        proper.prop_multiply(wf1, ls_mask)\n",
    "        #wf1 = lyot_stop(wf1, verbose=verbose, **conf)\n",
    "        psf = detector(wf1, verbose=verbose, **conf)\n",
    "        return psf"
   ]
  },
  {
   "cell_type": "code",
   "execution_count": 10,
   "metadata": {},
   "outputs": [],
   "source": [
    "def propag_multi_spots(rads, thetas, filename, cpu_count=cpu_count, verbose=False):\n",
    "    nrads = len(rads)\n",
    "    nthetas = len(thetas)\n",
    "    print('radii = %s'%rads)\n",
    "#    print('angles = %s'%thetas)\n",
    "    if not os.path.isfile(filename):\n",
    "        filename = os.path.join(dir_output, filename)\n",
    "    try:\n",
    "        cube = fits.getdata(filename)\n",
    "        print('   Load cube from %s'%filename)\n",
    "    except FileNotFoundError: # run simulation  \n",
    "        cube = []\n",
    "        t0 = time.time()\n",
    "        if cpu_count != 1 and platform in ['linux', 'linux2', 'darwin']:\n",
    "            if cpu_count == None:\n",
    "                cpu_count = mpro.cpu_count() - 1\n",
    "            print('   %s: VCG simulation starts, using %s cores'\\\n",
    "                %(time.strftime(\"%Y-%m-%d %H:%M:%S\", time.localtime()), cpu_count))\n",
    "            p = mpro.Pool(cpu_count)\n",
    "            func = partial(propag_one_spot, verbose=verbose)\n",
    "            if rads in r_int:\n",
    "                cube = np.array(p.starmap(func, zip(np.repeat(rads, nthetas), np.tile(thetas, nrads))))\n",
    "            elif rads in r_ext:\n",
    "                cube = np.array(p.starmap(func, zip(np.repeat(rads, nthetas), np.tile(thetas, nrads))))\n",
    "            elif rads in r_spi:\n",
    "                spi_rads, spi_thetas =  points_along_spi_right_edge(rads, thetas)\n",
    "                cube = np.array(p.starmap(func, zip(spi_rads, spi_thetas)))\n",
    "            p.close()\n",
    "            p.join()\n",
    "        else:\n",
    "            print('   %s: VCG simulation starts, using 1 core'\\\n",
    "                %(time.strftime(\"%Y-%m-%d %H:%M:%S\", time.localtime())))\n",
    "            for rad in all_rads and theta in all_thetas:\n",
    "                cube.append(propag_one_spot(rad, theta, verbose=verbose))\n",
    "        print('   %s: finished, elapsed %.3f seconds'\\\n",
    "            %(time.strftime(\"%Y-%m-%d %H:%M:%S\", time.localtime()), time.time() - t0))\n",
    "    return np.array(cube)"
   ]
  },
  {
   "cell_type": "markdown",
   "metadata": {},
   "source": [
    "#### Lyot stop undersize/oversize"
   ]
  },
  {
   "cell_type": "code",
   "execution_count": null,
   "metadata": {},
   "outputs": [
    {
     "name": "stdout",
     "output_type": "stream",
     "text": [
      "r_pup = 0.0 r_spi = 0.0\n",
      "radii = [4.898 4.498 4.098 3.698]\n",
      "   2021-05-02 18:19:21: VCG simulation starts, using 55 cores\n",
      "   2021-05-02 18:20:54: finished, elapsed 93.734 seconds\n",
      "radii = [19.106 19.506 19.906 20.306]\n",
      "   2021-05-02 18:20:55: VCG simulation starts, using 55 cores\n"
     ]
    }
   ],
   "source": [
    "r_pups = np.arange(0.0, 0.061, 0.005)\n",
    "r_spis = np.arange(0.0, 0.061, 0.005)\n",
    "npup = len(r_pups)\n",
    "nspi = len(r_spis)\n",
    "vcg_psf = []\n",
    "vcg_int = []\n",
    "throughput = []\n",
    "for r_pup in r_pups:\n",
    "    for r_spi in r_spis:\n",
    "        print('r_pup =', r_pup, 'r_spi =', r_spi)\n",
    "        #create ls\n",
    "        ls_mask = create_ls(diam_allglass_ext, diam_allglass_int, r_pup, r_pup, r_spi)\n",
    "        ls_mask = resize_img(ls_mask, conf['npupil'])\n",
    "        ls_mask = pad_img(ls_mask, conf['ngrid'])\n",
    "        #VCG from points inside central obscuration\n",
    "        r_int = np.arange(diam_int_eff/2 - r_spot, diam_int_cold_stop/2 - r_spot, -2*r_spot)\n",
    "        t_int = np.arange(0,360,20)\n",
    "        cube_int = propag_multi_spots(r_int, t_int, 'cube_int.fits')\n",
    "        psf_r_int = []\n",
    "        for i,r in enumerate(r_int):\n",
    "            psf_r_int.append(np.sum(x*4*np.pi*r*r_spot/len(t_int) for x in cube_int[i*len(t_int):(i+1)*len(t_int)]))\n",
    "        I_r_int = np.sum((psf_r_int), (1,2))\n",
    "        psf_int = np.sum(psf_r_int, 0)\n",
    "        # VCG from points beyond ELT pupil's outer edge\n",
    "        r_ext = np.arange(diam_ext_eff/2 + r_spot, diam_ext_cold_stop/2 + r_spot, 2*r_spot)\n",
    "        t_ext = np.arange(0, 360, 20)\n",
    "        cube_ext = propag_multi_spots(r_ext, t_ext, 'cube_ext.fits')\n",
    "        psf_r_ext = []\n",
    "        for i,r in enumerate(r_ext):\n",
    "            psf_r_ext.append(np.sum(x*4*np.pi*r*r_spot/len(t_ext) for x in cube_ext[i*len(t_ext):(i+1)*len(t_ext)]))\n",
    "        I_r_ext = np.sum((psf_r_ext), (1,2))\n",
    "        psf_ext = np.sum(psf_r_ext, 0)\n",
    "        # VCG from points along spiders\n",
    "        r_spi = np.arange(diam_int_eff/2 + r_spot, diam_ext_eff/2 - r_spot, 2*r_spot)\n",
    "        t_spi = np.arange(30,360,60)\n",
    "        r_spi_lr, t_spi_lr = points_along_spi_right_edge(r_spi, t_spi)\n",
    "        cube_spi = propag_multi_spots(r_spi, t_spi, 'cube_spi.fits')\n",
    "        psf_r_spi = []\n",
    "        for i,r in enumerate(r_spi):\n",
    "            psf_r_spi.append(np.sum(x*2*spi_width*r_spot for x in cube_spi[i*len(t_spi):(i+1)*len(t_spi)]))\n",
    "        I_r_spi = np.sum((psf_r_spi), (1,2))\n",
    "        psf_spi = np.sum(psf_r_spi, 0)\n",
    "        # Total VCG from all sources: int + ext + spi\n",
    "        psf_all = psf_int + psf_ext + psf_spi\n",
    "        vcg_intensity = np.sum(psf_all)\n",
    "        #throughput\n",
    "        wf2 = deepcopy(wf_pup)\n",
    "        proper.prop_multiply(wf2, ls_mask)\n",
    "        psf_pup = detector(wf2, verbose=False, **conf)\n",
    "        thruput = np.sum(psf_pup)\n",
    "        vcg_psf.append(psf_all)\n",
    "        vcg_int.append(vcg_intensity)\n",
    "        throughput.append(thruput)\n",
    "vcg_int = np.array(vcg_int)\n",
    "vcg_int = vcg_int.reshape(npup, nspi)\n",
    "throughput = np.array(throughput)\n",
    "throughput = throughput.reshape(npup, nspi)\n",
    "fits.writeto(os.path.join(dir_output, 'vcg_psf.fits'), np.float32(vcg_psf), overwrite=True)\n",
    "np.savetxt(os.path.join(dir_output, 'vcg_int.txt'), vcg_int, delimiter=', ')\n",
    "np.savetxt(os.path.join(dir_output, 'throughput.txt'), throughput, delimiter=', ')"
   ]
  },
  {
   "cell_type": "markdown",
   "metadata": {},
   "source": [
    "#### VCG all"
   ]
  },
  {
   "cell_type": "code",
   "execution_count": 11,
   "metadata": {},
   "outputs": [
    {
     "data": {
      "image/png": "[encoded data removed]",
      "text/plain": [
       "<Figure size 576x432 with 2 Axes>"
      ]
     },
     "metadata": {
      "needs_background": "light"
     },
     "output_type": "display_data"
    }
   ],
   "source": [
    "import matplotlib.pyplot as plt\n",
    "import numpy as np\n",
    "import os.path\n",
    "from astropy.io import fits\n",
    "rp = np.arange(0.0, 0.061, 0.005)\n",
    "rs = np.arange(0.0, 0.061, 0.005)\n",
    "vcg = np.loadtxt('VCG/2Dmap/vcg_int.txt', delimiter=', ')\n",
    "fig, ax = plt.subplots(figsize = (8,6))\n",
    "plt.imshow(vcg, origin='lower', extent=(rs[0],rs[-1],rp[0],rp[-1]), aspect='auto', cmap='viridis')\n",
    "plt.colorbar()\n",
    "#plt.scatter(0.0317, 0.0291, s=150, c='red', marker='+')\n",
    "plt.ylabel('ls_dRext & ls_dRint (%)');\n",
    "plt.xlabel('ls_dRspi (%)');\n",
    "plt.title('VCG \\n ');\n",
    "ax.set_xticklabels([0,1, 2, 3, 4, 5, 6])\n",
    "ax.set_yticklabels([0,1, 2, 3, 4, 5, 6])\n",
    "plt.show()\n",
    "#plt.savefig(os.path.join('VCG/2Dmap', '2Dmap.png'), dpi=300, transparent=True)"
   ]
  },
  {
   "cell_type": "code",
   "execution_count": 12,
   "metadata": {},
   "outputs": [
    {
     "data": {
      "image/png": "[encoded data removed]",
      "text/plain": [
       "<Figure size 576x432 with 2 Axes>"
      ]
     },
     "metadata": {
      "needs_background": "light"
     },
     "output_type": "display_data"
    }
   ],
   "source": [
    "import matplotlib.pyplot as plt\n",
    "import numpy as np\n",
    "import os.path\n",
    "from astropy.io import fits\n",
    "rp = np.arange(0.0, 0.061, 0.005)\n",
    "rs = np.arange(0.0, 0.061, 0.005)\n",
    "pupil_flux = np.loadtxt('VCG/2Dmap/throughput.txt', delimiter=', ')\n",
    "fig, ax = plt.subplots(figsize = (8,6))\n",
    "plt.imshow(pupil_flux, origin='lower', extent=(rs[0],rs[-1],rp[0],rp[-1]), aspect='auto', cmap='viridis')\n",
    "plt.colorbar()\n",
    "#plt.scatter(0.0317, 0.0291, s=150, c='red', marker='+')\n",
    "plt.ylabel('ls_dRext & ls_dRint (%)');\n",
    "plt.xlabel('ls_dRspi (%)');\n",
    "plt.title('Pupil flux \\n ');\n",
    "ax.set_xticklabels([0,1, 2, 3, 4, 5, 6])\n",
    "ax.set_yticklabels([0,1, 2, 3, 4, 5, 6])\n",
    "plt.show()\n",
    "#plt.savefig(os.path.join('VCG/2Dmap', '2Dmap.png'), dpi=300, transparent=True)"
   ]
  },
  {
   "cell_type": "markdown",
   "metadata": {},
   "source": [
    "#### SNR"
   ]
  },
  {
   "cell_type": "markdown",
   "metadata": {},
   "source": [
    "##### taking only VCG flux"
   ]
  },
  {
   "cell_type": "code",
   "execution_count": 13,
   "metadata": {},
   "outputs": [
    {
     "data": {
      "image/png": "[encoded data removed]",
      "text/plain": [
       "<Figure size 576x432 with 2 Axes>"
      ]
     },
     "metadata": {
      "needs_background": "light"
     },
     "output_type": "display_data"
    }
   ],
   "source": [
    "import matplotlib.pyplot as plt\n",
    "import numpy as np\n",
    "import os.path\n",
    "from astropy.io import fits\n",
    "rp = np.arange(0.0, 0.061, 0.005)\n",
    "rs = np.arange(0.0, 0.061, 0.005)\n",
    "SNR = pupil_flux/np.sqrt(vcg)\n",
    "fig, ax = plt.subplots(figsize = (8,6))\n",
    "plt.imshow(SNR, origin='lower', extent=(rs[0],rs[-1],rp[0],rp[-1]), aspect='auto', cmap='viridis')\n",
    "plt.colorbar()\n",
    "#plt.scatter(0.0317, 0.0291, s=150, c='red', marker='+')\n",
    "plt.ylabel('ls_dRext & ls_dRint (%)');\n",
    "plt.xlabel('ls_dRspi (%)');\n",
    "plt.title('SNR \\n ');\n",
    "ax.set_xticklabels([0,1, 2, 3, 4, 5, 6])\n",
    "ax.set_yticklabels([0,1, 2, 3, 4, 5, 6])\n",
    "plt.show()\n",
    "#plt.savefig(os.path.join('VCG/2Dmap', '2Dmap.png'), dpi=300, transparent=True)"
   ]
  },
  {
   "cell_type": "markdown",
   "metadata": {},
   "source": [
    "##### VCG flux + standard background flux"
   ]
  },
  {
   "cell_type": "code",
   "execution_count": 14,
   "metadata": {},
   "outputs": [
    {
     "data": {
      "image/png": "[encoded data removed]",
      "text/plain": [
       "<Figure size 576x432 with 2 Axes>"
      ]
     },
     "metadata": {
      "needs_background": "light"
     },
     "output_type": "display_data"
    }
   ],
   "source": [
    "import matplotlib.pyplot as plt\n",
    "import numpy as np\n",
    "import os.path\n",
    "from astropy.io import fits\n",
    "rp = np.arange(0.0, 0.061, 0.005)\n",
    "rs = np.arange(0.0, 0.061, 0.005)\n",
    "SNR = pupil_flux/np.sqrt(vcg+(L_flux_std_bkgrd*365*365))\n",
    "fig, ax = plt.subplots(figsize = (8,6))\n",
    "plt.imshow(SNR, origin='lower', extent=(rs[0],rs[-1],rp[0],rp[-1]), aspect='auto', cmap='viridis')\n",
    "plt.colorbar()\n",
    "#plt.scatter(0.0317, 0.0291, s=150, c='red', marker='+')\n",
    "plt.ylabel('ls_dRext & ls_dRint (%)');\n",
    "plt.xlabel('ls_dRspi (%)');\n",
    "plt.title('SNR \\n ');\n",
    "ax.set_xticklabels([0,1, 2, 3, 4, 5, 6])\n",
    "ax.set_yticklabels([0,1, 2, 3, 4, 5, 6])\n",
    "plt.show()\n",
    "#plt.savefig(os.path.join('VCG/2Dmap', '2Dmap.png'), dpi=300, transparent=True)"
   ]
  },
  {
   "cell_type": "code",
   "execution_count": null,
   "metadata": {},
   "outputs": [],
   "source": []
  }
 ],
 "metadata": {
  "kernelspec": {
   "display_name": "Python 3",
   "language": "python",
   "name": "python3"
  },
  "language_info": {
   "codemirror_mode": {
    "name": "ipython",
    "version": 3
   },
   "file_extension": ".py",
   "mimetype": "text/x-python",
   "name": "python",
   "nbconvert_exporter": "python",
   "pygments_lexer": "ipython3",
   "version": "3.7.4"
  }
 },
 "nbformat": 4,
 "nbformat_minor": 4
}
